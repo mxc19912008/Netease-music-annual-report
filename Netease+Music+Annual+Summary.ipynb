{
 "cells": [
  {
   "cell_type": "code",
   "execution_count": 398,
   "metadata": {
    "collapsed": true
   },
   "outputs": [],
   "source": [
    "import pandas as pd\n",
    "import numpy as np\n",
    "import datetime"
   ]
  },
  {
   "cell_type": "code",
   "execution_count": 617,
   "metadata": {},
   "outputs": [],
   "source": [
    "user = pd.read_csv('user.csv',encoding='utf-8')\n",
    "user_log = pd.read_csv('user_log.csv',encoding='utf-8')\n",
    "user_song = pd.read_csv('user_song.csv',encoding='utf-8')\n",
    "song_info = pd.read_csv('song_info.csv',encoding='utf-8')"
   ]
  },
  {
   "cell_type": "code",
   "execution_count": 618,
   "metadata": {},
   "outputs": [
    {
     "data": {
      "text/html": [
       "<div>\n",
       "<style>\n",
       "    .dataframe thead tr:only-child th {\n",
       "        text-align: right;\n",
       "    }\n",
       "\n",
       "    .dataframe thead th {\n",
       "        text-align: left;\n",
       "    }\n",
       "\n",
       "    .dataframe tbody tr th {\n",
       "        vertical-align: top;\n",
       "    }\n",
       "</style>\n",
       "<table border=\"1\" class=\"dataframe\">\n",
       "  <thead>\n",
       "    <tr style=\"text-align: right;\">\n",
       "      <th></th>\n",
       "      <th>user_id</th>\n",
       "      <th>log_in_timestamp</th>\n",
       "      <th>log_out_timestamp</th>\n",
       "    </tr>\n",
       "  </thead>\n",
       "  <tbody>\n",
       "    <tr>\n",
       "      <th>0</th>\n",
       "      <td>bf98edd3-fe2b-409a-abd8-311a2109261b</td>\n",
       "      <td>2017/6/5 23:26</td>\n",
       "      <td>2017/6/6 0:21</td>\n",
       "    </tr>\n",
       "    <tr>\n",
       "      <th>1</th>\n",
       "      <td>bf98edd3-fe2b-409a-abd8-311a2109261b</td>\n",
       "      <td>2017/6/6 22:26</td>\n",
       "      <td>2017/6/7 0:21</td>\n",
       "    </tr>\n",
       "    <tr>\n",
       "      <th>2</th>\n",
       "      <td>bf98edd3-fe2b-409a-abd8-311a2109261b</td>\n",
       "      <td>2017/6/7 9:26</td>\n",
       "      <td>2017/6/7 10:21</td>\n",
       "    </tr>\n",
       "    <tr>\n",
       "      <th>3</th>\n",
       "      <td>112b003d-244f-4657-8d19-315ad3ec23f5</td>\n",
       "      <td>2017/6/5 3:11</td>\n",
       "      <td>2017/6/5 17:41</td>\n",
       "    </tr>\n",
       "    <tr>\n",
       "      <th>4</th>\n",
       "      <td>112b003d-244f-4657-8d19-315ad3ec23f5</td>\n",
       "      <td>2017/6/6 3:11</td>\n",
       "      <td>2017/6/6 17:41</td>\n",
       "    </tr>\n",
       "  </tbody>\n",
       "</table>\n",
       "</div>"
      ],
      "text/plain": [
       "                                user_id log_in_timestamp log_out_timestamp\n",
       "0  bf98edd3-fe2b-409a-abd8-311a2109261b   2017/6/5 23:26     2017/6/6 0:21\n",
       "1  bf98edd3-fe2b-409a-abd8-311a2109261b   2017/6/6 22:26     2017/6/7 0:21\n",
       "2  bf98edd3-fe2b-409a-abd8-311a2109261b    2017/6/7 9:26    2017/6/7 10:21\n",
       "3  112b003d-244f-4657-8d19-315ad3ec23f5    2017/6/5 3:11    2017/6/5 17:41\n",
       "4  112b003d-244f-4657-8d19-315ad3ec23f5    2017/6/6 3:11    2017/6/6 17:41"
      ]
     },
     "execution_count": 618,
     "metadata": {},
     "output_type": "execute_result"
    }
   ],
   "source": [
    "user_log.head()"
   ]
  },
  {
   "cell_type": "code",
   "execution_count": 619,
   "metadata": {},
   "outputs": [
    {
     "data": {
      "text/html": [
       "<div>\n",
       "<style>\n",
       "    .dataframe thead tr:only-child th {\n",
       "        text-align: right;\n",
       "    }\n",
       "\n",
       "    .dataframe thead th {\n",
       "        text-align: left;\n",
       "    }\n",
       "\n",
       "    .dataframe tbody tr th {\n",
       "        vertical-align: top;\n",
       "    }\n",
       "</style>\n",
       "<table border=\"1\" class=\"dataframe\">\n",
       "  <thead>\n",
       "    <tr style=\"text-align: right;\">\n",
       "      <th></th>\n",
       "      <th>song_id</th>\n",
       "      <th>song_name</th>\n",
       "      <th>song_style</th>\n",
       "      <th>song_lyrics</th>\n",
       "      <th>song_singer</th>\n",
       "      <th>song_hotness</th>\n",
       "      <th>song_year</th>\n",
       "      <th>song_month</th>\n",
       "    </tr>\n",
       "  </thead>\n",
       "  <tbody>\n",
       "    <tr>\n",
       "      <th>0</th>\n",
       "      <td>56138ca287e9434581266693dd581692</td>\n",
       "      <td>演员</td>\n",
       "      <td>流行</td>\n",
       "      <td>简单点 说话的方式简单点\\n递进的情绪请省略\\n你又不是个演员\\n别设计那些情节\\n没意见 ...</td>\n",
       "      <td>薛之谦</td>\n",
       "      <td>9</td>\n",
       "      <td>2015</td>\n",
       "      <td>5</td>\n",
       "    </tr>\n",
       "    <tr>\n",
       "      <th>1</th>\n",
       "      <td>58dd5f51326745829b2654a9a3dc2e8a</td>\n",
       "      <td>简单爱</td>\n",
       "      <td>流行</td>\n",
       "      <td>说不上为什么 我变得很主动\\n若爱上一个人 什么都会值得去做\\n我想大声宣布 对你依依不舍\\...</td>\n",
       "      <td>周杰伦</td>\n",
       "      <td>7</td>\n",
       "      <td>2001</td>\n",
       "      <td>9</td>\n",
       "    </tr>\n",
       "    <tr>\n",
       "      <th>2</th>\n",
       "      <td>ce796432b64e4e8692346bb202a830cb</td>\n",
       "      <td>寻人启事</td>\n",
       "      <td>流行</td>\n",
       "      <td>让我看看 你的照片\\n　　究竟为什么 你消失不见\\n　　多数时间 你在哪边\\n　　会不会疲倦...</td>\n",
       "      <td>徐佳莹</td>\n",
       "      <td>8</td>\n",
       "      <td>2014</td>\n",
       "      <td>6</td>\n",
       "    </tr>\n",
       "    <tr>\n",
       "      <th>3</th>\n",
       "      <td>36254f9e158f40a4a2376299a97707f6</td>\n",
       "      <td>身骑白马</td>\n",
       "      <td>流行</td>\n",
       "      <td>我爱谁 跨不过 从来也不觉得错\\n自以为 抓着痛 就能往回忆里躲\\n偏执相信着 受诅咒的水晶...</td>\n",
       "      <td>徐佳莹</td>\n",
       "      <td>8</td>\n",
       "      <td>2009</td>\n",
       "      <td>5</td>\n",
       "    </tr>\n",
       "    <tr>\n",
       "      <th>4</th>\n",
       "      <td>a3590a5a7e9b4725a3cc947e240a1a81</td>\n",
       "      <td>飘向北方</td>\n",
       "      <td>流行</td>\n",
       "      <td>飘向北方 别问我家乡\\n高耸古老的城墙 挡不住忧伤\\n我飘向北方 家人是否无恙\\n肩上沉重的...</td>\n",
       "      <td>王力宏</td>\n",
       "      <td>8</td>\n",
       "      <td>2017</td>\n",
       "      <td>3</td>\n",
       "    </tr>\n",
       "  </tbody>\n",
       "</table>\n",
       "</div>"
      ],
      "text/plain": [
       "                            song_id song_name song_style  \\\n",
       "0  56138ca287e9434581266693dd581692        演员         流行   \n",
       "1  58dd5f51326745829b2654a9a3dc2e8a       简单爱         流行   \n",
       "2  ce796432b64e4e8692346bb202a830cb      寻人启事         流行   \n",
       "3  36254f9e158f40a4a2376299a97707f6      身骑白马         流行   \n",
       "4  a3590a5a7e9b4725a3cc947e240a1a81      飘向北方         流行   \n",
       "\n",
       "                                         song_lyrics song_singer  \\\n",
       "0  简单点 说话的方式简单点\\n递进的情绪请省略\\n你又不是个演员\\n别设计那些情节\\n没意见 ...         薛之谦   \n",
       "1  说不上为什么 我变得很主动\\n若爱上一个人 什么都会值得去做\\n我想大声宣布 对你依依不舍\\...         周杰伦   \n",
       "2  让我看看 你的照片\\n　　究竟为什么 你消失不见\\n　　多数时间 你在哪边\\n　　会不会疲倦...         徐佳莹   \n",
       "3  我爱谁 跨不过 从来也不觉得错\\n自以为 抓着痛 就能往回忆里躲\\n偏执相信着 受诅咒的水晶...         徐佳莹   \n",
       "4  飘向北方 别问我家乡\\n高耸古老的城墙 挡不住忧伤\\n我飘向北方 家人是否无恙\\n肩上沉重的...         王力宏   \n",
       "\n",
       "   song_hotness  song_year  song_month  \n",
       "0             9       2015           5  \n",
       "1             7       2001           9  \n",
       "2             8       2014           6  \n",
       "3             8       2009           5  \n",
       "4             8       2017           3  "
      ]
     },
     "execution_count": 619,
     "metadata": {},
     "output_type": "execute_result"
    }
   ],
   "source": [
    "song_info.head()"
   ]
  },
  {
   "cell_type": "code",
   "execution_count": 620,
   "metadata": {},
   "outputs": [
    {
     "data": {
      "text/html": [
       "<div>\n",
       "<style>\n",
       "    .dataframe thead tr:only-child th {\n",
       "        text-align: right;\n",
       "    }\n",
       "\n",
       "    .dataframe thead th {\n",
       "        text-align: left;\n",
       "    }\n",
       "\n",
       "    .dataframe tbody tr th {\n",
       "        vertical-align: top;\n",
       "    }\n",
       "</style>\n",
       "<table border=\"1\" class=\"dataframe\">\n",
       "  <thead>\n",
       "    <tr style=\"text-align: right;\">\n",
       "      <th></th>\n",
       "      <th>user_id</th>\n",
       "      <th>song_id</th>\n",
       "      <th>song_in_timestamp</th>\n",
       "      <th>finished</th>\n",
       "      <th>song_source</th>\n",
       "      <th>favorite</th>\n",
       "    </tr>\n",
       "  </thead>\n",
       "  <tbody>\n",
       "    <tr>\n",
       "      <th>0</th>\n",
       "      <td>bf98edd3-fe2b-409a-abd8-311a2109261b</td>\n",
       "      <td>56138ca287e9434581266693dd581692</td>\n",
       "      <td>1496644018</td>\n",
       "      <td>1</td>\n",
       "      <td>1</td>\n",
       "      <td>1.0</td>\n",
       "    </tr>\n",
       "    <tr>\n",
       "      <th>1</th>\n",
       "      <td>112b003d-244f-4657-8d19-315ad3ec23f5</td>\n",
       "      <td>58dd5f51326745829b2654a9a3dc2e8a</td>\n",
       "      <td>1496684411</td>\n",
       "      <td>0</td>\n",
       "      <td>2</td>\n",
       "      <td>1.0</td>\n",
       "    </tr>\n",
       "    <tr>\n",
       "      <th>2</th>\n",
       "      <td>112b003d-244f-4657-8d19-315ad3ec23f5</td>\n",
       "      <td>ce796432b64e4e8692346bb202a830cb</td>\n",
       "      <td>1496632306</td>\n",
       "      <td>1</td>\n",
       "      <td>3</td>\n",
       "      <td>1.0</td>\n",
       "    </tr>\n",
       "    <tr>\n",
       "      <th>3</th>\n",
       "      <td>68a0a10a-8c3d-4b96-92ba-4c74e69198aa</td>\n",
       "      <td>36254f9e158f40a4a2376299a97707f6</td>\n",
       "      <td>1496660910</td>\n",
       "      <td>0</td>\n",
       "      <td>1</td>\n",
       "      <td>1.0</td>\n",
       "    </tr>\n",
       "    <tr>\n",
       "      <th>4</th>\n",
       "      <td>496291a0-008f-416a-a095-af6730836355</td>\n",
       "      <td>a3590a5a7e9b4725a3cc947e240a1a81</td>\n",
       "      <td>1496622320</td>\n",
       "      <td>1</td>\n",
       "      <td>2</td>\n",
       "      <td>1.0</td>\n",
       "    </tr>\n",
       "  </tbody>\n",
       "</table>\n",
       "</div>"
      ],
      "text/plain": [
       "                                user_id                           song_id  \\\n",
       "0  bf98edd3-fe2b-409a-abd8-311a2109261b  56138ca287e9434581266693dd581692   \n",
       "1  112b003d-244f-4657-8d19-315ad3ec23f5  58dd5f51326745829b2654a9a3dc2e8a   \n",
       "2  112b003d-244f-4657-8d19-315ad3ec23f5  ce796432b64e4e8692346bb202a830cb   \n",
       "3  68a0a10a-8c3d-4b96-92ba-4c74e69198aa  36254f9e158f40a4a2376299a97707f6   \n",
       "4  496291a0-008f-416a-a095-af6730836355  a3590a5a7e9b4725a3cc947e240a1a81   \n",
       "\n",
       "   song_in_timestamp  finished  song_source  favorite  \n",
       "0         1496644018         1            1       1.0  \n",
       "1         1496684411         0            2       1.0  \n",
       "2         1496632306         1            3       1.0  \n",
       "3         1496660910         0            1       1.0  \n",
       "4         1496622320         1            2       1.0  "
      ]
     },
     "execution_count": 620,
     "metadata": {},
     "output_type": "execute_result"
    }
   ],
   "source": [
    "user_song.head()"
   ]
  },
  {
   "cell_type": "code",
   "execution_count": 404,
   "metadata": {
    "collapsed": true
   },
   "outputs": [],
   "source": [
    "def total_num_songs(user_song, user_id):\n",
    "    # 返回： 指定user_id听的歌曲中去掉重复歌曲的个数\n",
    "    return len(user_song[user_song['user_id'] == user_id]['song_id'].unique())"
   ]
  },
  {
   "cell_type": "code",
   "execution_count": 479,
   "metadata": {
    "collapsed": true
   },
   "outputs": [],
   "source": [
    "def favo_style(user_song, user_id, song_info):\n",
    "    # 将对应user_id听的歌的id存在list里\n",
    "    song_list = list(user_song[user_song['user_id'] == user_id]['song_id'])\n",
    "    # 找出将上述list中出现次数最高的歌的id\n",
    "    fav_song_id = max(set(song_list), key = song_list.count)\n",
    "    # 返回最高次数歌的风格\n",
    "    return song_info[song_info['song_id'] == fav_song_id]['song_style'][0]"
   ]
  },
  {
   "cell_type": "code",
   "execution_count": 480,
   "metadata": {},
   "outputs": [
    {
     "data": {
      "text/plain": [
       "'流行'"
      ]
     },
     "execution_count": 480,
     "metadata": {},
     "output_type": "execute_result"
    }
   ],
   "source": [
    "favo_style(user_song, 'bf98edd3-fe2b-409a-abd8-311a2109261b', song_info)"
   ]
  },
  {
   "cell_type": "code",
   "execution_count": 481,
   "metadata": {},
   "outputs": [],
   "source": [
    "def build_time_period_feature():# 该函数是一个助手函数，添加时间段特征\n",
    "    #将开始听歌的时间戳转换为小时\n",
    "    user_song['song_in_hour'] = pd.to_datetime(user_song['song_in_timestamp'] , unit='s').dt.hour\n",
    "    #将小时转换为对应的时间段\n",
    "    shenye = (user_song['song_in_hour'] >= 0) & (user_song['song_in_hour']<= 4)\n",
    "    qingchen = (user_song['song_in_hour'] > 4) & (user_song['song_in_hour'] <=8)\n",
    "    shangwu = (user_song['song_in_hour'] > 8) & (user_song['song_in_hour'] <=12)\n",
    "    xiawu = (user_song['song_in_hour'] > 12) & (user_song['song_in_hour'] <=16)\n",
    "    huanghun = (user_song['song_in_hour'] > 16) & (user_song['song_in_hour'] <=20)\n",
    "    wanshang = (user_song['song_in_hour'] > 20) & (user_song['song_in_hour'] <=23)\n",
    "    \n",
    "    user_song['song_in_time_period'] = '晚上'\n",
    "    user_song['song_in_time_period'][shenye] = '深夜'\n",
    "    user_song['song_in_time_period'][qingchen] = '清晨'\n",
    "    user_song['song_in_time_period'][shangwu] = '上午'\n",
    "    user_song['song_in_time_period'][xiawu] = '下午'\n",
    "    user_song['song_in_time_period'][huanghun] = '黄昏'\n",
    "    user_song['song_in_time_period'][wanshang] = '晚上'\n",
    "    \n",
    "def favo_time_period(user_song, user_id):\n",
    "    #如果还没添加时间段这个特征，先添加\n",
    "    if 'song_in_time_period' not in user_song.columns:\n",
    "        build_time_period_feature()\n",
    "    # 将对应user_id听的歌的时间段存在list里\n",
    "    time_list = list(user_song[user_song['user_id'] == user_id]['song_in_time_period'])\n",
    "    # 返回上述list里出现最多的时间段名\n",
    "    fav_time = max(set(time_list), key = time_list.count)\n",
    "    return fav_time"
   ]
  },
  {
   "cell_type": "code",
   "execution_count": 482,
   "metadata": {},
   "outputs": [
    {
     "data": {
      "text/plain": [
       "'下午'"
      ]
     },
     "execution_count": 482,
     "metadata": {},
     "output_type": "execute_result"
    }
   ],
   "source": [
    "favo_time_period(user_song, 'bf98edd3-fe2b-409a-abd8-311a2109261b')"
   ]
  },
  {
   "cell_type": "code",
   "execution_count": 621,
   "metadata": {
    "collapsed": true
   },
   "outputs": [],
   "source": [
    "def comment(user, user_id):\n",
    "    if user[user['user_id'] == user_id]['comment_time'][0] <= 1:\n",
    "        return ['喜欢默默地听', '评论区的狂欢你很少参与.']\n",
    "    elif (user[user['user_id'] == user_id]['comment_time'][0] > 1 \n",
    "          and user[user['user_id'] == user_id]['comment_time'][0] < 3):\n",
    "        return ['喜欢分享自己的感受', '你经常在评论区分享听歌感受.']\n",
    "    else:\n",
    "        return ['热爱分享', '评论区里藏着你的许多回忆.']"
   ]
  },
  {
   "cell_type": "code",
   "execution_count": 622,
   "metadata": {},
   "outputs": [
    {
     "data": {
      "text/plain": [
       "['喜欢默默地听', '评论区的狂欢你很少参与.']"
      ]
     },
     "execution_count": 622,
     "metadata": {},
     "output_type": "execute_result"
    }
   ],
   "source": [
    " comment(user, 'bf98edd3-fe2b-409a-abd8-311a2109261b')"
   ]
  },
  {
   "cell_type": "code",
   "execution_count": 413,
   "metadata": {},
   "outputs": [],
   "source": [
    "def most_freq_words(user_log, user_id, song_info):\n",
    "    import jieba\n",
    "    import re\n",
    "    from collections import Counter\n",
    "    # 将user_id听过的歌去重以后的歌词全部连起来\n",
    "    lyrics_list = list(pd.merge(song_info, user_song[user_song['user_id'] == user_id], how = 'right')\n",
    "                       .drop_duplicates('song_id')['song_lyrics'])\n",
    "    lyrics = ''.join(lyrics_list)\n",
    "    # 去除非汉字的数字、英文及符号等\n",
    "    filtrate = re.compile(u'[^\\u4E00-\\u9FA5]')\n",
    "    filtered_lyrics = filtrate.sub(r'', lyrics)\n",
    "    # 使用Jieba中文分词并转化为list\n",
    "    seg_list = list(jieba.cut(filtered_lyrics))\n",
    "    # 返回上述list中出现频率最高的2字词（除去一些停止词）\n",
    "    count = Counter(seg_list)\n",
    "    freq_list = count.most_common()\n",
    "    stopwords = ['的','你','我','人','在','让','了','和','是','就','都','而','及','與','著','或',\n",
    "                 '一個','一个','沒有','没有','我們','我们','你們','你们','妳們','他們','他们',\n",
    "                 '她們','是否']\n",
    "    return [w[0] for w in freq_list if w[0] not in stopwords and len(w[0]) >1][0]"
   ]
  },
  {
   "cell_type": "code",
   "execution_count": 414,
   "metadata": {},
   "outputs": [
    {
     "data": {
      "text/plain": [
       "'永远'"
      ]
     },
     "execution_count": 414,
     "metadata": {},
     "output_type": "execute_result"
    }
   ],
   "source": [
    "most_freq_words(user_log, 'bf98edd3-fe2b-409a-abd8-311a2109261b', song_info)"
   ]
  },
  {
   "cell_type": "code",
   "execution_count": 623,
   "metadata": {},
   "outputs": [],
   "source": [
    "def build_date_feature():\n",
    "    # 这是一个助手函数，将时间戳转变为‘2018-01-02’这样的日期形式\n",
    "    user_song['song_in_date'] = pd.to_datetime(user_song['song_in_timestamp'] , unit='s').dt.date\n",
    "    \n",
    "def most_freq_in_one_day(user_song, user_id, song_info):\n",
    "    # 检查是否已经转变了时间戳，如果没有，就转变\n",
    "    if 'song_in_date' not in user_song.columns:\n",
    "        build_date_feature()\n",
    "    # 找出在一天内user_id 听过次数最多的歌，返回这一天，歌名，演唱者，以及听了多少次\n",
    "    f_df = (pd.DataFrame(user_song[user_song['user_id'] == user_id]\n",
    "                         .groupby(['song_in_date','song_id'])\n",
    "                         .user_id.count())\n",
    "                        .reset_index()\n",
    "                        .sort_values('user_id', ascending = False))\n",
    "    month = f_df.iloc[0]['song_in_date'].month\n",
    "    day = f_df.iloc[0]['song_in_date'].day\n",
    "    time = f_df.iloc[0]['user_id']\n",
    "    song_id = f_df.iloc[0]['song_id']\n",
    "    song_name = song_info[song_info['song_id'] == song_id].iloc[0]['song_name']\n",
    "    singer = song_info[song_info['song_id'] == song_id].iloc[0]['song_singer']\n",
    "\n",
    "    return month, day, song_name, singer, time"
   ]
  },
  {
   "cell_type": "code",
   "execution_count": 624,
   "metadata": {},
   "outputs": [
    {
     "data": {
      "text/plain": [
       "(6, 7, '小酒窝', '林俊杰', 3)"
      ]
     },
     "execution_count": 624,
     "metadata": {},
     "output_type": "execute_result"
    }
   ],
   "source": [
    "most_freq_in_one_day(user_song, 'bf98edd3-fe2b-409a-abd8-311a2109261b', song_info)"
   ]
  },
  {
   "cell_type": "code",
   "execution_count": 418,
   "metadata": {
    "collapsed": true
   },
   "outputs": [],
   "source": [
    "def to_datetime():\n",
    "    user_log['log_out_timestamp'] = pd.to_datetime(user_log['log_out_timestamp'])\n",
    "    user_log['log_in_timestamp'] = pd.to_datetime(user_log['log_in_timestamp'])\n",
    "def late_night(user_log, user_id):\n",
    "    if type(user_log['log_out_timestamp'][0]) is str:\n",
    "        to_datetime()\n",
    "    user_log['log_out_date'] = user_log['log_out_timestamp'].dt.date\n",
    "    condition = (user_log['user_id'] == user_id) & (user_log['log_out_timestamp'].dt.hour >= 0) &(user_log['log_out_timestamp'].dt.hour <= 5)\n",
    "    return user_log[condition].groupby('log_out_date').user_id.count().sum()"
   ]
  },
  {
   "cell_type": "code",
   "execution_count": 419,
   "metadata": {},
   "outputs": [
    {
     "data": {
      "text/plain": [
       "2"
      ]
     },
     "execution_count": 419,
     "metadata": {},
     "output_type": "execute_result"
    }
   ],
   "source": [
    "late_night(user_log, 'bf98edd3-fe2b-409a-abd8-311a2109261b')"
   ]
  },
  {
   "cell_type": "code",
   "execution_count": 547,
   "metadata": {
    "collapsed": true
   },
   "outputs": [],
   "source": [
    "def less_popluar(song_info, user_song, user_id):\n",
    "    less_pop = song_info[song_info['song_hotness'] <= 5]\n",
    "    time = pd.merge(less_pop,user_song[user_song['user_id'] == user_id], how = 'left').song_in_timestamp.count()\n",
    "    if time == 0:\n",
    "        return '你听过的歌曲都是大热门'\n",
    "    else:\n",
    "        f_df = pd.DataFrame(pd.merge(less_pop,user_song[user_song['user_id'] == user_id], how = 'left').groupby('song_id').user_id.count()).reset_index().sort_values('user_id', ascending = False)\n",
    "        song_id = f_df.iloc[0]['song_id']\n",
    "        song_name = less_pop[less_pop['song_id'] == song_id].iloc[0]['song_name']\n",
    "        return '在你的音乐品味中\\n也藏着高冷的一面，这首有些小众的'+ '《'+song_name + '》\\n'+'在今年你一共听了'+ str(time)+'次'"
   ]
  },
  {
   "cell_type": "code",
   "execution_count": 548,
   "metadata": {},
   "outputs": [
    {
     "data": {
      "text/plain": [
       "'在你的音乐品味中\\n也藏着高冷的一面，这首有些小众的《月亮惹的祸》\\n在今年你一共听了1次'"
      ]
     },
     "execution_count": 548,
     "metadata": {},
     "output_type": "execute_result"
    }
   ],
   "source": [
    "less_popluar(song_info, user_song, '1dd0d404-4813-45e5-bffc-6324f31daa8b')"
   ]
  },
  {
   "cell_type": "code",
   "execution_count": 422,
   "metadata": {
    "collapsed": true
   },
   "outputs": [],
   "source": [
    "def most_freq_song_by_day(song_info, user_song, user_id):\n",
    "    from collections import Counter\n",
    "    song_id, time = Counter(user_song[user_song['user_id'] == user_id].groupby(['song_in_date','song_id']).count().reset_index()['song_id']).most_common()[0]\n",
    "    return song_info[song_info['song_id'] == song_id].iloc[0]['song_name'], time"
   ]
  },
  {
   "cell_type": "code",
   "execution_count": 423,
   "metadata": {},
   "outputs": [
    {
     "data": {
      "text/plain": [
       "('月亮惹的祸', 1)"
      ]
     },
     "execution_count": 423,
     "metadata": {},
     "output_type": "execute_result"
    }
   ],
   "source": [
    "most_freq_song_by_day(song_info, user_song, '1dd0d404-4813-45e5-bffc-6324f31daa8b')"
   ]
  },
  {
   "cell_type": "code",
   "execution_count": 426,
   "metadata": {
    "collapsed": true
   },
   "outputs": [],
   "source": [
    "def oldest_song(song_info, user_song, user_id):\n",
    "    song_name, song_year, song_month = pd.merge(user_song[user_song['user_id'] == user_id].drop_duplicates('song_id'),song_info, how = 'left').sort_values(['song_year','song_month']).iloc[0][['song_name','song_year','song_month']]\n",
    "    return song_name, song_year, song_month"
   ]
  },
  {
   "cell_type": "code",
   "execution_count": 427,
   "metadata": {},
   "outputs": [
    {
     "data": {
      "text/plain": [
       "('每次都想呼喊你的名字', 1986, 5)"
      ]
     },
     "execution_count": 427,
     "metadata": {},
     "output_type": "execute_result"
    }
   ],
   "source": [
    "oldest_song(song_info, user_song, '5c9508b7-b0cd-45d4-bf28-dcefe49ab43a')"
   ]
  },
  {
   "cell_type": "code",
   "execution_count": 428,
   "metadata": {
    "collapsed": true
   },
   "outputs": [],
   "source": [
    "def num_of_recommanded(user_song, user_id):\n",
    "    mask = (user_song['user_id'] == user_id) & (user_song['song_source'] == 1) & (user_song['favorite'] == 1)\n",
    "    recom_num = user_song[mask]['song_id'].nunique()\n",
    "    return recom_num"
   ]
  },
  {
   "cell_type": "code",
   "execution_count": 429,
   "metadata": {},
   "outputs": [
    {
     "data": {
      "text/plain": [
       "1"
      ]
     },
     "execution_count": 429,
     "metadata": {},
     "output_type": "execute_result"
    }
   ],
   "source": [
    "num_of_recommanded(user_song, '68a0a10a-8c3d-4b96-92ba-4c74e69198aa')"
   ]
  },
  {
   "cell_type": "code",
   "execution_count": 592,
   "metadata": {},
   "outputs": [],
   "source": [
    "def favo_singer(song_info, user_song, user_id):\n",
    "    user_s_info = pd.merge(user_song[user_song['user_id'] ==  user_id], song_info)\n",
    "    favo_singer = user_s_info.groupby('song_singer').count().sort_values('user_id', ascending = False).reset_index().iloc[0]['song_singer']\n",
    "    singer_song_list = user_s_info[user_s_info['song_singer'] == favo_singer].groupby('song_name').count().sort_values('user_id', ascending = False).reset_index()\n",
    "    f_dict = {'《'+k+'》':v for k, v in zip(singer_song_list['song_name'],singer_song_list['user_id'])}\n",
    "    time  = sum(f_dict.values())\n",
    "    f = [k+str(v)+'次\\n' for k, v in f_dict.items()]\n",
    "    return favo_singer, time, f"
   ]
  },
  {
   "cell_type": "code",
   "execution_count": 594,
   "metadata": {},
   "outputs": [
    {
     "data": {
      "text/plain": [
       "['《寻人启事》3次\\n', '《言不由衷》2次\\n']"
      ]
     },
     "execution_count": 594,
     "metadata": {},
     "output_type": "execute_result"
    }
   ],
   "source": [
    "favo_singer(song_info, user_song, 'bf98edd3-fe2b-409a-abd8-311a2109261b')[2]"
   ]
  },
  {
   "cell_type": "code",
   "execution_count": 432,
   "metadata": {},
   "outputs": [
    {
     "data": {
      "text/html": [
       "<div>\n",
       "<style>\n",
       "    .dataframe thead tr:only-child th {\n",
       "        text-align: right;\n",
       "    }\n",
       "\n",
       "    .dataframe thead th {\n",
       "        text-align: left;\n",
       "    }\n",
       "\n",
       "    .dataframe tbody tr th {\n",
       "        vertical-align: top;\n",
       "    }\n",
       "</style>\n",
       "<table border=\"1\" class=\"dataframe\">\n",
       "  <thead>\n",
       "    <tr style=\"text-align: right;\">\n",
       "      <th></th>\n",
       "      <th>user_id</th>\n",
       "      <th>log_in_timestamp</th>\n",
       "      <th>log_out_timestamp</th>\n",
       "      <th>log_out_date</th>\n",
       "    </tr>\n",
       "  </thead>\n",
       "  <tbody>\n",
       "    <tr>\n",
       "      <th>0</th>\n",
       "      <td>bf98edd3-fe2b-409a-abd8-311a2109261b</td>\n",
       "      <td>2017-06-05 23:26:00</td>\n",
       "      <td>2017-06-06 00:21:00</td>\n",
       "      <td>2017-06-06</td>\n",
       "    </tr>\n",
       "    <tr>\n",
       "      <th>1</th>\n",
       "      <td>bf98edd3-fe2b-409a-abd8-311a2109261b</td>\n",
       "      <td>2017-06-06 22:26:00</td>\n",
       "      <td>2017-06-07 00:21:00</td>\n",
       "      <td>2017-06-07</td>\n",
       "    </tr>\n",
       "    <tr>\n",
       "      <th>2</th>\n",
       "      <td>bf98edd3-fe2b-409a-abd8-311a2109261b</td>\n",
       "      <td>2017-06-07 09:26:00</td>\n",
       "      <td>2017-06-07 10:21:00</td>\n",
       "      <td>2017-06-07</td>\n",
       "    </tr>\n",
       "    <tr>\n",
       "      <th>3</th>\n",
       "      <td>112b003d-244f-4657-8d19-315ad3ec23f5</td>\n",
       "      <td>2017-06-05 03:11:00</td>\n",
       "      <td>2017-06-05 17:41:00</td>\n",
       "      <td>2017-06-05</td>\n",
       "    </tr>\n",
       "    <tr>\n",
       "      <th>4</th>\n",
       "      <td>112b003d-244f-4657-8d19-315ad3ec23f5</td>\n",
       "      <td>2017-06-06 03:11:00</td>\n",
       "      <td>2017-06-06 17:41:00</td>\n",
       "      <td>2017-06-06</td>\n",
       "    </tr>\n",
       "  </tbody>\n",
       "</table>\n",
       "</div>"
      ],
      "text/plain": [
       "                                user_id    log_in_timestamp  \\\n",
       "0  bf98edd3-fe2b-409a-abd8-311a2109261b 2017-06-05 23:26:00   \n",
       "1  bf98edd3-fe2b-409a-abd8-311a2109261b 2017-06-06 22:26:00   \n",
       "2  bf98edd3-fe2b-409a-abd8-311a2109261b 2017-06-07 09:26:00   \n",
       "3  112b003d-244f-4657-8d19-315ad3ec23f5 2017-06-05 03:11:00   \n",
       "4  112b003d-244f-4657-8d19-315ad3ec23f5 2017-06-06 03:11:00   \n",
       "\n",
       "    log_out_timestamp log_out_date  \n",
       "0 2017-06-06 00:21:00   2017-06-06  \n",
       "1 2017-06-07 00:21:00   2017-06-07  \n",
       "2 2017-06-07 10:21:00   2017-06-07  \n",
       "3 2017-06-05 17:41:00   2017-06-05  \n",
       "4 2017-06-06 17:41:00   2017-06-06  "
      ]
     },
     "execution_count": 432,
     "metadata": {},
     "output_type": "execute_result"
    }
   ],
   "source": [
    "user_log.head()"
   ]
  },
  {
   "cell_type": "code",
   "execution_count": 453,
   "metadata": {
    "collapsed": true
   },
   "outputs": [],
   "source": [
    "def total_hours(user_log, user_id):\n",
    "    user_log_id = user_log[user_log['user_id'] == user_id]\n",
    "    total_timedelta = (user_log_id['log_out_timestamp'] - user_log_id['log_in_timestamp']).sum()\n",
    "    days, seconds = total_timedelta.days, total_timedelta.seconds\n",
    "    hour = days * 24 + seconds / 3600\n",
    "    return round(hour)"
   ]
  },
  {
   "cell_type": "code",
   "execution_count": 454,
   "metadata": {},
   "outputs": [
    {
     "data": {
      "text/plain": [
       "29"
      ]
     },
     "execution_count": 454,
     "metadata": {},
     "output_type": "execute_result"
    }
   ],
   "source": [
    "total_hours(user_log, '112b003d-244f-4657-8d19-315ad3ec23f5')"
   ]
  },
  {
   "cell_type": "code",
   "execution_count": 612,
   "metadata": {},
   "outputs": [],
   "source": [
    "def favorite_songs(song_info, user_song, user_id):\n",
    "    user_s_info = pd.merge(user_song[user_song['user_id'] ==  user_id], song_info)\n",
    "    sort_list = user_s_info.groupby(['song_id','song_name','song_singer']).count().sort_values('user_id', ascending = False).reset_index()\n",
    "    song_name_list = list(sort_list['song_name'])\n",
    "    singer_list = list(sort_list['song_singer'])\n",
    "    if len(song_name_list) > 10:\n",
    "        return ['《'+k+'》 '+v+'\\n' for k, v in zip(song_name_list[:10],singer_list[:10])]\n",
    "    else:\n",
    "        return ['《'+k+'》 '+v+'\\n' for k, v in zip(song_name_list,singer_list)]"
   ]
  },
  {
   "cell_type": "code",
   "execution_count": 613,
   "metadata": {},
   "outputs": [
    {
     "data": {
      "text/plain": [
       "['《简单爱》 周杰伦\\n', '《寻人启事》 徐佳莹\\n']"
      ]
     },
     "execution_count": 613,
     "metadata": {},
     "output_type": "execute_result"
    }
   ],
   "source": [
    "favorite_songs(song_info, user_song, '112b003d-244f-4657-8d19-315ad3ec23f5')"
   ]
  },
  {
   "cell_type": "code",
   "execution_count": 614,
   "metadata": {},
   "outputs": [],
   "source": [
    "def net_ease_annual_summary(user, user_log, user_song, song_info, user_id):\n",
    "    total_num_song = total_num_songs(user_song, user_id)\n",
    "    fav_style = favo_style(user_song, user_id, song_info)\n",
    "    fav_time_period = favo_time_period(user_song, user_id)\n",
    "    comments = comment(user, user_id)\n",
    "    most_freq_word = most_freq_words(user_log, user_id, song_info)\n",
    "    most_freqs_in_one_day = most_freq_in_one_day(user_song, user_id, song_info)\n",
    "    late_nights = late_night(user_log, user_id)\n",
    "    less_popluars = less_popluar(song_info, user_song, user_id)\n",
    "    most_freqs_song_by_day = most_freq_song_by_day(song_info, user_song, user_id)\n",
    "    oldest_songs = oldest_song(song_info, user_song, user_id)\n",
    "    num_of_recommand = num_of_recommanded(user_song, user_id)\n",
    "    favo_singers = favo_singer(song_info, user_song, user_id)\n",
    "    total_hour = total_hours(user_log, user_id)\n",
    "    favorite_song = favorite_songs(song_info, user_song, user_id)\n",
    "    \n",
    "    res = ('这一年里\\n你一共在云村听了'+str(total_num_song)+'首歌\\n \\n你热衷的风格是' \n",
    "           +fav_style+'音乐\\n喜欢在'+fav_time_period+'听歌\\n你'+comments[0]+'\\n'+comments[1]\n",
    "           +'\\n\\n'+'2017,你听到的最多的歌词是'+'\"'+most_freq_word+'\"'+'\\n\\n'+str(most_freqs_in_one_day[0])+'月'\n",
    "           + str(most_freqs_in_one_day[1])+'日大概是特别的一天\\n这一天里\\n你把'+ most_freqs_in_one_day[3]+'的'+'《'\n",
    "           + most_freqs_in_one_day[2]+ '》\\n反复听了'+str(most_freqs_in_one_day[4])+'次'+'\\n\\n这一年,你有'+str(late_nights)+'天\\n'\n",
    "           +'深夜12点后\\n仍沉浸在音乐世界\\n\\n'+ '睡不着的夜晚\\n还有网易云音乐的陪伴\\n\\n'+ less_popluars\n",
    "           +'\\n\\n这一年\\n在'+ str(most_freqs_song_by_day[1])+'天你都听了'+'《'+ most_freqs_song_by_day[0]\n",
    "           + '》\\n在所有熟悉的旋律中\\n你对这首歌最专一\\n\\n这首'+'《'+oldest_songs[0]+'》'+'是你今年听过年代最久远的歌\\n发行于'\n",
    "           +str(oldest_songs[1])+'年'+str(oldest_songs[2])+'月\\n\\n这一年，在你收藏的歌\\n有'+str(num_of_recommand)\n",
    "           +'首是网易云音乐精心为你推荐的\\n2017, 还是网易云音乐最懂你\\n\\n'+favo_singers[0]+'\\n是你的2017年度歌手\\n共听了'\n",
    "           +str(favo_singers[1]) +'次\\n'+ ''.join(favo_singers[2])+'\\n这一年\\n 你有'+str(total_hour)\n",
    "           +'小时\\n沉浸在音乐的世界\\n时光中的音乐\\n是不散的宴席\\n\\n2017\\n这些是你最爱的歌\\n'+''.join(favorite_song))\n",
    "    return res"
   ]
  },
  {
   "cell_type": "code",
   "execution_count": 615,
   "metadata": {},
   "outputs": [
    {
     "name": "stdout",
     "output_type": "stream",
     "text": [
      "这一年里\n",
      "你一共在云村听了4首歌\n",
      " \n",
      "你热衷的风格是流行音乐\n",
      "喜欢在下午听歌\n",
      "你喜欢默默地听\n",
      "评论区的狂欢你很少参与.\n",
      "\n",
      "2017,你听到的最多的歌词是\"永远\"\n",
      "\n",
      "6月7日大概是特别的一天\n",
      "这一天里\n",
      "你把林俊杰的《小酒窝》\n",
      "反复听了3次\n",
      "\n",
      "这一年,你有2天\n",
      "深夜12点后\n",
      "仍沉浸在音乐世界\n",
      "\n",
      "睡不着的夜晚\n",
      "还有网易云音乐的陪伴\n",
      "\n",
      "你听过的歌曲都是大热门\n",
      "\n",
      "这一年\n",
      "在2天你都听了《演员》\n",
      "在所有熟悉的旋律中\n",
      "你对这首歌最专一\n",
      "\n",
      "这首《小酒窝》是你今年听过年代最久远的歌\n",
      "发行于2008年10月\n",
      "\n",
      "这一年，在你收藏的歌\n",
      "有1首是网易云音乐精心为你推荐的\n",
      "2017, 还是网易云音乐最懂你\n",
      "\n",
      "徐佳莹\n",
      "是你的2017年度歌手\n",
      "共听了5次\n",
      "《寻人启事》3次\n",
      "《言不由衷》2次\n",
      "\n",
      "这一年\n",
      " 你有4小时\n",
      "沉浸在音乐的世界\n",
      "时光中的音乐\n",
      "是不散的宴席\n",
      "\n",
      "2017\n",
      "这些是你最爱的歌\n",
      "《小酒窝》 林俊杰\n",
      "《演员》 薛之谦\n",
      "《寻人启事》 徐佳莹\n",
      "《言不由衷》 徐佳莹\n",
      "\n"
     ]
    }
   ],
   "source": [
    "print(net_ease_annual_summary(user, user_log, user_song, song_info,  'bf98edd3-fe2b-409a-abd8-311a2109261b'))"
   ]
  },
  {
   "cell_type": "code",
   "execution_count": null,
   "metadata": {
    "collapsed": true
   },
   "outputs": [],
   "source": [
    "(6, 7, '小酒窝', '林俊杰', 3)"
   ]
  }
 ],
 "metadata": {
  "kernelspec": {
   "display_name": "Python 3",
   "language": "python",
   "name": "python3"
  },
  "language_info": {
   "codemirror_mode": {
    "name": "ipython",
    "version": 3
   },
   "file_extension": ".py",
   "mimetype": "text/x-python",
   "name": "python",
   "nbconvert_exporter": "python",
   "pygments_lexer": "ipython3",
   "version": "3.6.1"
  }
 },
 "nbformat": 4,
 "nbformat_minor": 2
}
